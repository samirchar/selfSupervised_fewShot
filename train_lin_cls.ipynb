{
 "cells": [
  {
   "cell_type": "code",
   "execution_count": 5,
   "id": "271cca9e",
   "metadata": {},
   "outputs": [],
   "source": [
    "import pandas as pd\n",
    "import numpy as np\n",
    "from sklearn.svm import LinearSVC\n",
    "from sklearn.preprocessing import StandardScaler\n",
    "from sklearn.pipeline import Pipeline\n",
    "from sklearn.model_selection import GridSearchCV\n"
   ]
  },
  {
   "cell_type": "code",
   "execution_count": 2,
   "id": "d7a5a274",
   "metadata": {},
   "outputs": [],
   "source": [
    "data = {'train': np.load('data/extracted_features/supervised/train.npy'),\n",
    "       'val': np.load('data/extracted_features/supervised/val.npy'),\n",
    "       'test': np.load('data/extracted_features/supervised/test.npy')}"
   ]
  },
  {
   "cell_type": "code",
   "execution_count": 23,
   "id": "6abdcb7d",
   "metadata": {},
   "outputs": [],
   "source": [
    "sc = StandardScaler()\n",
    "svm = LinearSVC(max_iter=2000,dual=False,class_weight=\"balanced\")\n",
    "pipe = Pipeline(steps = [('standardize',sc),('SVM',svm)])"
   ]
  },
  {
   "cell_type": "code",
   "execution_count": 28,
   "id": "f60cae8b",
   "metadata": {},
   "outputs": [
    {
     "ename": "NameError",
     "evalue": "name 'X_digits' is not defined",
     "output_type": "error",
     "traceback": [
      "\u001b[0;31m---------------------------------------------------------------------------\u001b[0m",
      "\u001b[0;31mNameError\u001b[0m                                 Traceback (most recent call last)",
      "\u001b[0;32m<ipython-input-28-cfab3f78d796>\u001b[0m in \u001b[0;36m<module>\u001b[0;34m\u001b[0m\n\u001b[1;32m      6\u001b[0m \u001b[0;34m\u001b[0m\u001b[0m\n\u001b[1;32m      7\u001b[0m \u001b[0msearch\u001b[0m \u001b[0;34m=\u001b[0m \u001b[0mGridSearchCV\u001b[0m\u001b[0;34m(\u001b[0m\u001b[0mpipe\u001b[0m\u001b[0;34m,\u001b[0m \u001b[0mparam_grid\u001b[0m\u001b[0;34m,\u001b[0m \u001b[0mn_jobs\u001b[0m\u001b[0;34m=\u001b[0m\u001b[0;34m-\u001b[0m\u001b[0;36m1\u001b[0m\u001b[0;34m,\u001b[0m\u001b[0mcv\u001b[0m \u001b[0;34m=\u001b[0m \u001b[0;36m3\u001b[0m\u001b[0;34m,\u001b[0m\u001b[0mverbose\u001b[0m\u001b[0;34m=\u001b[0m\u001b[0;36m1\u001b[0m\u001b[0;34m)\u001b[0m\u001b[0;34m\u001b[0m\u001b[0;34m\u001b[0m\u001b[0m\n\u001b[0;32m----> 8\u001b[0;31m \u001b[0msearch\u001b[0m\u001b[0;34m.\u001b[0m\u001b[0mfit\u001b[0m\u001b[0;34m(\u001b[0m\u001b[0mX_digits\u001b[0m\u001b[0;34m,\u001b[0m \u001b[0my_digits\u001b[0m\u001b[0;34m)\u001b[0m\u001b[0;34m\u001b[0m\u001b[0;34m\u001b[0m\u001b[0m\n\u001b[0m\u001b[1;32m      9\u001b[0m \u001b[0mprint\u001b[0m\u001b[0;34m(\u001b[0m\u001b[0;34m\"Best parameter (CV score=%0.3f):\"\u001b[0m \u001b[0;34m%\u001b[0m \u001b[0msearch\u001b[0m\u001b[0;34m.\u001b[0m\u001b[0mbest_score_\u001b[0m\u001b[0;34m)\u001b[0m\u001b[0;34m\u001b[0m\u001b[0;34m\u001b[0m\u001b[0m\n\u001b[1;32m     10\u001b[0m \u001b[0mprint\u001b[0m\u001b[0;34m(\u001b[0m\u001b[0msearch\u001b[0m\u001b[0;34m.\u001b[0m\u001b[0mbest_params_\u001b[0m\u001b[0;34m)\u001b[0m\u001b[0;34m\u001b[0m\u001b[0;34m\u001b[0m\u001b[0m\n",
      "\u001b[0;31mNameError\u001b[0m: name 'X_digits' is not defined"
     ]
    }
   ],
   "source": [
    "Cs = list(2**np.arange(-19,-3,1,dtype=float))+list(10**np.arange(-7,2,1,dtype=float))\n",
    "\n",
    "param_grid = {\n",
    "    \"SVM__C\": Cs\n",
    "    }\n",
    "\n",
    "search = GridSearchCV(pipe, param_grid, n_jobs=-1,cv = 3,verbose=1)\n",
    "search.fit(data['train'], y_digits)\n",
    "print(\"Best parameter (CV score=%0.3f):\" % search.best_score_)\n",
    "print(search.best_params_)"
   ]
  },
  {
   "cell_type": "code",
   "execution_count": 29,
   "id": "6825e19e",
   "metadata": {},
   "outputs": [
    {
     "data": {
      "text/plain": [
       "array([[0.18244487, 0.05736828, 0.25183862, ..., 0.07567544, 0.36181074,\n",
       "        0.0071228 ],\n",
       "       [0.18310386, 0.35869914, 0.00911823, ..., 0.3779951 , 0.06746776,\n",
       "        0.00776784],\n",
       "       [0.0120356 , 0.01036346, 0.12399987, ..., 0.26641172, 0.3992544 ,\n",
       "        0.99399775],\n",
       "       ...,\n",
       "       [0.15099323, 0.6407769 , 0.        , ..., 0.1963284 , 0.0216676 ,\n",
       "        0.35130203],\n",
       "       [0.08640178, 0.781633  , 0.47105592, ..., 0.5692706 , 0.0735267 ,\n",
       "        0.14189433],\n",
       "       [0.82272375, 0.05622902, 0.00407798, ..., 0.06472108, 0.9037926 ,\n",
       "        0.        ]], dtype=float32)"
      ]
     },
     "execution_count": 29,
     "metadata": {},
     "output_type": "execute_result"
    }
   ],
   "source": [
    "data['train']"
   ]
  },
  {
   "cell_type": "code",
   "execution_count": 22,
   "id": "44eab9ec",
   "metadata": {},
   "outputs": [
    {
     "data": {
      "text/plain": [
       "array([1.e-07, 1.e-06, 1.e-05, 1.e-04, 1.e-03, 1.e-02, 1.e-01, 1.e+00,\n",
       "       1.e+01])"
      ]
     },
     "execution_count": 22,
     "metadata": {},
     "output_type": "execute_result"
    }
   ],
   "source": [
    "10**np.arange(-7,2,1,dtype=float)"
   ]
  }
 ],
 "metadata": {
  "kernelspec": {
   "display_name": "Python 3.7.6 64-bit ('base': conda)",
   "language": "python",
   "name": "python37664bitbaseconda15aae41925a8475e86b7bea0cce036d9"
  },
  "language_info": {
   "codemirror_mode": {
    "name": "ipython",
    "version": 3
   },
   "file_extension": ".py",
   "mimetype": "text/x-python",
   "name": "python",
   "nbconvert_exporter": "python",
   "pygments_lexer": "ipython3",
   "version": "3.7.10"
  },
  "toc": {
   "base_numbering": 1,
   "nav_menu": {},
   "number_sections": true,
   "sideBar": true,
   "skip_h1_title": false,
   "title_cell": "Table of Contents",
   "title_sidebar": "Contents",
   "toc_cell": false,
   "toc_position": {},
   "toc_section_display": true,
   "toc_window_display": false
  }
 },
 "nbformat": 4,
 "nbformat_minor": 5
}
